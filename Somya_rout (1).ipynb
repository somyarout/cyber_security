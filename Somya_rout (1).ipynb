{
  "nbformat": 4,
  "nbformat_minor": 0,
  "metadata": {
    "colab": {
      "name": "Somya_rout.ipynb",
      "provenance": [],
      "collapsed_sections": []
    },
    "kernelspec": {
      "name": "python3",
      "display_name": "Python 3"
    },
    "language_info": {
      "name": "python"
    }
  },
  "cells": [
    {
      "cell_type": "code",
      "metadata": {
        "colab": {
          "base_uri": "https://localhost:8080/"
        },
        "id": "e6aZUg3UBAc4",
        "outputId": "f951d5ff-adea-4dce-feb5-1f2a4b6938c5"
      },
      "source": [
        "import requests\n",
        "from datetime import datetime\n",
        "\n",
        "api_key ='455a3faa47caccb43849cfbb1d009a7b'\n",
        "location = input(\"enter the city name:  \")\n",
        "complete_api_link = \"https://api.openweathermap.org/data/2.5/weather?q=\"+location+\"&appid=\"+api_key\n",
        "api_link = requests.get(complete_api_link)\n",
        "api_data = api_link.json()\n",
        "\n",
        "temp_city = ((api_data['main']['temp']) - 273.15)\n",
        "weather_desc = api_data['weather'][0]['description']\n",
        "hmdt = api_data['main']['humidity']\n",
        "wind_spd = api_data['wind']['speed']\n",
        "date_time = datetime.now().strftime(\"%d %b %Y | %I :%M : %S &p\")\n",
        "print(\"------------------------------------------------------------------------\")\n",
        "print(\"weather stats for -{}  ||  {}\" .format(location.upper(),date_time))\n",
        "print(\"------------------------------------------------------------------------\")\n",
        "print(\"current temperature is: {:.2f} deg C\".format(temp_city))\n",
        "print(\"current weather desc :\",weather_desc)\n",
        "print(\"current humidity   :\",hmdt, '%')\n",
        "print(\"current wind speed)  :\",wind_spd,'kmph')\n",
        "\n"
      ],
      "execution_count": 5,
      "outputs": [
        {
          "output_type": "stream",
          "text": [
            "enter the city name:  delhi\n",
            "------------------------------------------------------------------------\n",
            "weather stats for -DELHI  ||  23 Jun 2021 | 09 :55 : 56 &p\n",
            "------------------------------------------------------------------------\n",
            "current temperature is: 40.05 deg C\n",
            "current weather desc : haze\n",
            "current humidity   : 27 %\n",
            "current wind speed)  : 1.54 kmph\n"
          ],
          "name": "stdout"
        }
      ]
    },
    {
      "cell_type": "code",
      "metadata": {
        "id": "ncqT7j-cCLif"
      },
      "source": [
        ""
      ],
      "execution_count": null,
      "outputs": []
    }
  ]
}